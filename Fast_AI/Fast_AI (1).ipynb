{
 "cells": [
  {
   "cell_type": "code",
   "execution_count": 1,
   "metadata": {},
   "outputs": [],
   "source": [
    "import pydicom\n",
    "import os\n",
    "import time\n",
    "import numpy as np\n",
    "from PIL import Image\n",
    "import cv2\n",
    "import pandas as pd"
   ]
  },
  {
   "cell_type": "code",
   "execution_count": 4,
   "metadata": {},
   "outputs": [],
   "source": [
    "direction =  os.listdir('meds')\n",
    "for item in direction:\n",
    "    if item.endswith('.dcm'):\n",
    "        ds = pydicom.dcmread('meds/'+item)\n",
    "        arr = ds.pixel_array\n",
    "        image = Image.fromarray(arr, 'L')\n",
    "        image.save(f\"meds/grey/{ds.PatientID}.jpg\")\n",
    "        image = cv2.imread(f\"meds/grey/{ds.PatientID}.jpg\", cv2.IMREAD_GRAYSCALE)\n",
    "        backtorgb = cv2.cvtColor(image,cv2.COLOR_GRAY2RGB)\n",
    "        cv2.imwrite(f\"meds/rgb/{ds.PatientID}.jpg\",backtorgb)"
   ]
  },
  {
   "cell_type": "code",
   "execution_count": 51,
   "metadata": {},
   "outputs": [],
   "source": [
    "df_ids = pd.DataFrame(ids)\n",
    "df_ids.columns = ['patientId']"
   ]
  },
  {
   "cell_type": "code",
   "execution_count": 4,
   "metadata": {},
   "outputs": [],
   "source": [
    "image = cv2.imread('img.jpg', cv2.IMREAD_GRAYSCALE)\n"
   ]
  },
  {
   "cell_type": "code",
   "execution_count": 5,
   "metadata": {},
   "outputs": [
    {
     "data": {
      "text/plain": [
       "-1"
      ]
     },
     "execution_count": 5,
     "metadata": {},
     "output_type": "execute_result"
    }
   ],
   "source": [
    "backtorgb = cv2.cvtColor(image,cv2.COLOR_GRAY2RGB)\n",
    "cv2.imshow('GRAY2RGB Image', backtorgb)\n",
    "cv2.waitKey()"
   ]
  },
  {
   "cell_type": "code",
   "execution_count": 54,
   "metadata": {},
   "outputs": [
    {
     "data": {
      "text/plain": [
       "str"
      ]
     },
     "execution_count": 54,
     "metadata": {},
     "output_type": "execute_result"
    }
   ],
   "source": [
    "label_csv = 'meds/stage_2_train_labels.csv'\n",
    "df = pd.read_csv(label_csv)\n",
    "type(df.iloc[0,0])"
   ]
  },
  {
   "cell_type": "code",
   "execution_count": 56,
   "metadata": {},
   "outputs": [],
   "source": [
    "df3 = df.merge(df2, on='patientId', how='inner')"
   ]
  },
  {
   "cell_type": "code",
   "execution_count": 70,
   "metadata": {},
   "outputs": [],
   "source": [
    "df4 = df3.drop(['x','y','width','height'],axis='columns')"
   ]
  },
  {
   "cell_type": "code",
   "execution_count": 72,
   "metadata": {},
   "outputs": [
    {
     "data": {
      "text/html": [
       "<div>\n",
       "<style scoped>\n",
       "    .dataframe tbody tr th:only-of-type {\n",
       "        vertical-align: middle;\n",
       "    }\n",
       "\n",
       "    .dataframe tbody tr th {\n",
       "        vertical-align: top;\n",
       "    }\n",
       "\n",
       "    .dataframe thead th {\n",
       "        text-align: right;\n",
       "    }\n",
       "</style>\n",
       "<table border=\"1\" class=\"dataframe\">\n",
       "  <thead>\n",
       "    <tr style=\"text-align: right;\">\n",
       "      <th></th>\n",
       "      <th>patientId</th>\n",
       "      <th>Target</th>\n",
       "    </tr>\n",
       "  </thead>\n",
       "  <tbody>\n",
       "    <tr>\n",
       "      <th>0</th>\n",
       "      <td>00a85be6-6eb0-421d-8acf-ff2dc0007e8a</td>\n",
       "      <td>0</td>\n",
       "    </tr>\n",
       "    <tr>\n",
       "      <th>1</th>\n",
       "      <td>00aecb01-a116-45a2-956c-08d2fa55433f</td>\n",
       "      <td>1</td>\n",
       "    </tr>\n",
       "    <tr>\n",
       "      <th>2</th>\n",
       "      <td>00aecb01-a116-45a2-956c-08d2fa55433f</td>\n",
       "      <td>1</td>\n",
       "    </tr>\n",
       "    <tr>\n",
       "      <th>3</th>\n",
       "      <td>00c0b293-48e7-4e16-ac76-9269ba535a62</td>\n",
       "      <td>1</td>\n",
       "    </tr>\n",
       "    <tr>\n",
       "      <th>4</th>\n",
       "      <td>00c0b293-48e7-4e16-ac76-9269ba535a62</td>\n",
       "      <td>1</td>\n",
       "    </tr>\n",
       "  </tbody>\n",
       "</table>\n",
       "</div>"
      ],
      "text/plain": [
       "                              patientId  Target\n",
       "0  00a85be6-6eb0-421d-8acf-ff2dc0007e8a       0\n",
       "1  00aecb01-a116-45a2-956c-08d2fa55433f       1\n",
       "2  00aecb01-a116-45a2-956c-08d2fa55433f       1\n",
       "3  00c0b293-48e7-4e16-ac76-9269ba535a62       1\n",
       "4  00c0b293-48e7-4e16-ac76-9269ba535a62       1"
      ]
     },
     "execution_count": 72,
     "metadata": {},
     "output_type": "execute_result"
    }
   ],
   "source": [
    "df4.to_csv('stage_2_labels', index=False)\n",
    "pd.read_csv('stage_2_labels').head()"
   ]
  },
  {
   "cell_type": "code",
   "execution_count": null,
   "metadata": {},
   "outputs": [],
   "source": [
    "PATH = 'meds'\n",
    "TMP_PATH = \"/tmp/tmp\"\n",
    "MODEL_PATH = \"/tmp/model/\"\n",
    "sz = 224\n",
    "arch = resnet34\n",
    "bs = 64\n",
    "\n",
    "n = len(df4)\n",
    "val_idxs = get_cv_idxs(n) # random 20% data for validation set\n",
    "\n",
    "aug_tfms=transforms_side_on # Use None for faster testing\n",
    "tfms = tfms_from_model(arch, sz, aug_tfms=aug_tfms, max_zoom=1.1)\n",
    "data = ImageClassifierData.from_csv(PATH, 'stage_2_train_images', label_csv, test_name='stage_2_test_images', \n",
    "                                    val_idxs=val_idxs, \n",
    "                                    suffix='.dcm', \n",
    "                                    tfms=tfms,  # just for fast testing\n",
    "                                    bs=bs)\n",
    "learn = ConvLearner.pretrained(arch, data, tmp_name=TMP_PATH, models_name=MODEL_PATH)"
   ]
  },
  {
   "cell_type": "code",
   "execution_count": null,
   "metadata": {},
   "outputs": [],
   "source": [
    "!pip install -Uqq fastbook\n",
    "import fastbook\n",
    "fastbook.setup_book()"
   ]
  },
  {
   "cell_type": "code",
   "execution_count": null,
   "metadata": {},
   "outputs": [],
   "source": [
    "from google.colab import drive\n",
    "drive.mount('/content/gdrive', force_remount=True)\n",
    "root_dir = \"/content/gdrive/My Drive/\"\n",
    "base_dir = root_dir + 'Colab Notebooks'"
   ]
  },
  {
   "cell_type": "code",
   "execution_count": null,
   "metadata": {},
   "outputs": [],
   "source": [
    "from fastai.imports import *\n",
    "path = Path(base_dir)\n",
    "dest = path/\"folder\"\n",
    "dest.mkdir(parents=True, exist_ok=True)\n",
    "%reload_ext autoreload\n",
    "%autoreload 2\n",
    "%matplotlib inline"
   ]
  },
  {
   "cell_type": "code",
   "execution_count": null,
   "metadata": {},
   "outputs": [],
   "source": []
  }
 ],
 "metadata": {
  "kernelspec": {
   "display_name": "Python 3",
   "language": "python",
   "name": "python3"
  },
  "language_info": {
   "codemirror_mode": {
    "name": "ipython",
    "version": 3
   },
   "file_extension": ".py",
   "mimetype": "text/x-python",
   "name": "python",
   "nbconvert_exporter": "python",
   "pygments_lexer": "ipython3",
   "version": "3.8.5"
  }
 },
 "nbformat": 4,
 "nbformat_minor": 4
}
